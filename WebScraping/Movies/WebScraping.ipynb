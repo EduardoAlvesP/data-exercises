{
  "nbformat": 4,
  "nbformat_minor": 0,
  "metadata": {
    "colab": {
      "provenance": []
    },
    "kernelspec": {
      "name": "python3",
      "display_name": "Python 3"
    },
    "language_info": {
      "name": "python"
    }
  },
  "cells": [
    {
      "cell_type": "code",
      "execution_count": 3,
      "metadata": {
        "colab": {
          "base_uri": "https://localhost:8080/"
        },
        "id": "9u_Q-35xwN73",
        "outputId": "8dbab3ac-ea99-4dca-9716-cc4504028d61"
      },
      "outputs": [
        {
          "output_type": "stream",
          "name": "stdout",
          "text": [
            "   Average Rank                                           Film  Year  \\\n",
            "16           17                                       Parasite  2019   \n",
            "18           19  Lord of the Rings: The Fellowship of the Ring  2001   \n",
            "22           23                              Avengers: Endgame  2019   \n",
            "\n",
            "   Rotten Tomatoes' Top 100  \n",
            "16                        6  \n",
            "18                 unranked  \n",
            "22                        7  \n"
          ]
        }
      ],
      "source": [
        "import requests\n",
        "import sqlite3\n",
        "import pandas as pd\n",
        "from bs4 import BeautifulSoup\n",
        "\n",
        "url = 'https://en.everybodywiki.com/100_Most_Highly-Ranked_Films'\n",
        "db_name = 'Movies.db'\n",
        "table_name = 'Top_25'\n",
        "csv_path = '/content/top_25_films.csv'\n",
        "df = pd.DataFrame(columns = [\"Average Rank\",\"Film\",\"Year\",\"Rotten Tomatoes' Top 100\"])\n",
        "count = 0\n",
        "\n",
        "html_page = requests.get(url).text\n",
        "data = BeautifulSoup(html_page, 'html.parser')\n",
        "\n",
        "tables = data.find_all('tbody')\n",
        "rows = tables[0].find_all('tr')\n",
        "\n",
        "for row in rows:\n",
        "    if count<25:\n",
        "        col = row.find_all('td')\n",
        "        if len(col)!=0:\n",
        "            data_dict = {\"Average Rank\": col[0].contents[0],\n",
        "                         \"Film\": col[1].contents[0],\n",
        "                         \"Year\": col[2].contents[0],\n",
        "                         \"Rotten Tomatoes' Top 100\": col[3].contents[0]}\n",
        "            df1 = pd.DataFrame(data_dict, index=[0])\n",
        "            df = pd.concat([df,df1], ignore_index=True)\n",
        "            count+=1\n",
        "    else:\n",
        "        break\n",
        "\n",
        "df['Year'] = pd.to_numeric(df['Year'], errors='coerce')\n",
        "df = df.dropna(subset=['Year'])\n",
        "df['Year'] = df['Year'].astype(int)\n",
        "df2000 = df[df['Year']>=2000]\n",
        "print(df2000)\n",
        "df.to_csv(csv_path)\n",
        "conn = sqlite3.connect(db_name)\n",
        "df.to_sql(table_name,conn,if_exists='replace',index=False)\n",
        "conn.close()\n"
      ]
    }
  ]
}