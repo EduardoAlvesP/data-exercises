{
  "nbformat": 4,
  "nbformat_minor": 0,
  "metadata": {
    "colab": {
      "provenance": []
    },
    "kernelspec": {
      "name": "python3",
      "display_name": "Python 3"
    },
    "language_info": {
      "name": "python"
    }
  },
  "cells": [
    {
      "cell_type": "code",
      "execution_count": 1,
      "metadata": {
        "colab": {
          "base_uri": "https://localhost:8080/"
        },
        "id": "WxhpNfeCv4KV",
        "outputId": "e10a4360-9f8c-403d-a853-c32fe056a91a"
      },
      "outputs": [
        {
          "output_type": "stream",
          "name": "stdout",
          "text": [
            "--2025-07-24 04:45:45--  https://cf-courses-data.s3.us.cloud-object-storage.appdomain.cloud/IBMSkillsNetwork-PY0221EN-Coursera/labs/v2/INSTRUCTOR.csv\n",
            "Resolving cf-courses-data.s3.us.cloud-object-storage.appdomain.cloud (cf-courses-data.s3.us.cloud-object-storage.appdomain.cloud)... 169.63.118.104\n",
            "Connecting to cf-courses-data.s3.us.cloud-object-storage.appdomain.cloud (cf-courses-data.s3.us.cloud-object-storage.appdomain.cloud)|169.63.118.104|:443... connected.\n",
            "HTTP request sent, awaiting response... 200 OK\n",
            "Length: 387 [text/csv]\n",
            "Saving to: ‘INSTRUCTOR.csv’\n",
            "\n",
            "INSTRUCTOR.csv      100%[===================>]     387  --.-KB/s    in 0s      \n",
            "\n",
            "2025-07-24 04:45:45 (99.9 MB/s) - ‘INSTRUCTOR.csv’ saved [387/387]\n",
            "\n",
            "--2025-07-24 04:45:45--  https://cf-courses-data.s3.us.cloud-object-storage.appdomain.cloud/IBMSkillsNetwork-PY0221EN-Coursera/labs/v2/Departments.csv\n",
            "Resolving cf-courses-data.s3.us.cloud-object-storage.appdomain.cloud (cf-courses-data.s3.us.cloud-object-storage.appdomain.cloud)... 169.63.118.104\n",
            "Connecting to cf-courses-data.s3.us.cloud-object-storage.appdomain.cloud (cf-courses-data.s3.us.cloud-object-storage.appdomain.cloud)|169.63.118.104|:443... connected.\n",
            "HTTP request sent, awaiting response... 200 OK\n",
            "Length: 88 [text/csv]\n",
            "Saving to: ‘Departments.csv’\n",
            "\n",
            "Departments.csv     100%[===================>]      88  --.-KB/s    in 0s      \n",
            "\n",
            "2025-07-24 04:45:45 (61.9 MB/s) - ‘Departments.csv’ saved [88/88]\n",
            "\n"
          ]
        }
      ],
      "source": [
        "!wget https://cf-courses-data.s3.us.cloud-object-storage.appdomain.cloud/IBMSkillsNetwork-PY0221EN-Coursera/labs/v2/INSTRUCTOR.csv\n",
        "!wget https://cf-courses-data.s3.us.cloud-object-storage.appdomain.cloud/IBMSkillsNetwork-PY0221EN-Coursera/labs/v2/Departments.csv"
      ]
    },
    {
      "cell_type": "code",
      "source": [
        "import sqlite3\n",
        "import pandas as pd\n",
        "conn = sqlite3.connect('STAFF.db')\n",
        "table_name = 'INSTRUCTOR'\n",
        "attribute_list = ['ID','FNAME','LNAME','CITY','CCODE']\n",
        "file_path = '/content/INSTRUCTOR.csv'\n",
        "df = pd.read_csv(file_path,names = attribute_list )\n",
        "df.to_sql(table_name,conn,if_exists ='replace', index= False)\n",
        "print('Table is ready')\n",
        "\n",
        "query_statement = f\"SELECT * FROM {table_name}\"\n",
        "query_output = pd.read_sql(query_statement,conn)\n",
        "print(query_statement)\n",
        "print(query_output)\n",
        "\n",
        "query_statement = f\"SELECT FNAME FROM {table_name}\"\n",
        "query_output = pd.read_sql(query_statement, conn)\n",
        "print(query_statement)\n",
        "print(query_output)\n",
        "\n",
        "query_statement = f\"SELECT COUNT(*) FROM {table_name}\"\n",
        "query_output = pd.read_sql(query_statement, conn)\n",
        "print(query_statement)\n",
        "print(query_output)\n",
        "\n",
        "data_dict = {'ID':[100],'FNAME': ['John'],'LNAME':['Doe'],'CITY':['Paris'],'CCODE':['FR']}\n",
        "data_append = pd.DataFrame(data_dict)\n",
        "data_append.to_sql(table_name,conn,if_exists ='append',index=False)\n",
        "print('Data appended')\n",
        "\n",
        "query_statement = f\"SELECT COUNT(*) FROM {table_name}\"\n",
        "query_output = pd.read_sql(query_statement, conn)\n",
        "print(query_statement)\n",
        "print(query_output)\n",
        "\n",
        "table_name2 = 'Departments'\n",
        "attribute_list2 = ['DEPT_ID','DEP_NAME','MANAGER_ID','LOC_ID']\n",
        "file_path2 = '/content/Departments.csv'\n",
        "df2 = pd.read_csv(file_path2,names = attribute_list2 )\n",
        "df2.to_sql(table_name2,conn,if_exists ='replace', index= False)\n",
        "\n",
        "data_dict2 = {'DEPT_ID':[9],'DEP_NAME': ['Quality Assurance'],'MANAGER_ID':['30010'],'LOC_ID':['L0010']}\n",
        "data_append2 = pd.DataFrame(data_dict2)\n",
        "data_append2.to_sql(table_name2,conn,if_exists ='append',index=False)\n",
        "print('Data appended')\n",
        "\n",
        "query_statement = f\"SELECT * FROM {table_name2}\"\n",
        "query_output = pd.read_sql(query_statement,conn)\n",
        "print(query_statement)\n",
        "print(query_output)\n",
        "\n",
        "query_statement = f\"SELECT DEP_NAME FROM {table_name2}\"\n",
        "query_output = pd.read_sql(query_statement,conn)\n",
        "print(query_statement)\n",
        "print(query_output)\n",
        "\n",
        "query_statement = f\"SELECT COUNT(*) FROM {table_name2}\"\n",
        "query_output = pd.read_sql(query_statement,conn)\n",
        "print(query_statement)\n",
        "print(query_output)\n",
        "conn.close()\n"
      ],
      "metadata": {
        "colab": {
          "base_uri": "https://localhost:8080/"
        },
        "id": "448S4gkLv5qO",
        "outputId": "20159ee6-a7d7-41a5-8587-309c5fd5ecd2"
      },
      "execution_count": 5,
      "outputs": [
        {
          "output_type": "stream",
          "name": "stdout",
          "text": [
            "Table is ready\n",
            "SELECT * FROM INSTRUCTOR\n",
            "    ID    FNAME      LNAME      CITY CCODE\n",
            "0    1      Rav      Ahuja   TORONTO    CA\n",
            "1    2     Raul      Chong   Markham    CA\n",
            "2    3     Hima  Vasudevan   Chicago    US\n",
            "3    4     John     Thomas  Illinois    US\n",
            "4    5    Alice      James  Illinois    US\n",
            "5    6    Steve      Wells  Illinois    US\n",
            "6    7  Santosh      Kumar  Illinois    US\n",
            "7    8    Ahmed    Hussain  Illinois    US\n",
            "8    9    Nancy      Allen  Illinois    US\n",
            "9   10     Mary     Thomas  Illinois    US\n",
            "10  11  Bharath      Gupta  Illinois    US\n",
            "11  12   Andrea      Jones  Illinois    US\n",
            "12  13      Ann      Jacob  Illinois    US\n",
            "13  14     Amit      Kumar  NewDelhi    IN\n",
            "SELECT FNAME FROM INSTRUCTOR\n",
            "      FNAME\n",
            "0       Rav\n",
            "1      Raul\n",
            "2      Hima\n",
            "3      John\n",
            "4     Alice\n",
            "5     Steve\n",
            "6   Santosh\n",
            "7     Ahmed\n",
            "8     Nancy\n",
            "9      Mary\n",
            "10  Bharath\n",
            "11   Andrea\n",
            "12      Ann\n",
            "13     Amit\n",
            "SELECT COUNT(*) FROM INSTRUCTOR\n",
            "   COUNT(*)\n",
            "0        14\n",
            "Data appended\n",
            "SELECT COUNT(*) FROM INSTRUCTOR\n",
            "   COUNT(*)\n",
            "0        15\n",
            "Data appended\n",
            "SELECT * FROM Departments\n",
            "   DEPT_ID           DEP_NAME  MANAGER_ID LOC_ID\n",
            "0        2    Architect Group       30001  L0001\n",
            "1        5     Software Group       30002  L0002\n",
            "2        7        Design Team       30003  L0003\n",
            "3        9  Quality Assurance       30010  L0010\n",
            "SELECT DEP_NAME FROM Departments\n",
            "            DEP_NAME\n",
            "0    Architect Group\n",
            "1     Software Group\n",
            "2        Design Team\n",
            "3  Quality Assurance\n",
            "SELECT COUNT(*) FROM Departments\n",
            "   COUNT(*)\n",
            "0         4\n"
          ]
        }
      ]
    }
  ]
}