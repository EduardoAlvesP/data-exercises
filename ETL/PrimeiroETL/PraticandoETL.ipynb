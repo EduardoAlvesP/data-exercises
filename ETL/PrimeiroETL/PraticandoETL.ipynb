{
  "nbformat": 4,
  "nbformat_minor": 0,
  "metadata": {
    "colab": {
      "provenance": []
    },
    "kernelspec": {
      "name": "python3",
      "display_name": "Python 3"
    },
    "language_info": {
      "name": "python"
    }
  },
  "cells": [
    {
      "cell_type": "code",
      "execution_count": 1,
      "metadata": {
        "colab": {
          "base_uri": "https://localhost:8080/"
        },
        "id": "EWCiXzPROE3P",
        "outputId": "7afb0c9c-f02e-4305-bf1c-604ad041852f"
      },
      "outputs": [
        {
          "output_type": "stream",
          "name": "stdout",
          "text": [
            "--2025-07-22 03:43:39--  https://cf-courses-data.s3.us.cloud-object-storage.appdomain.cloud/IBMDeveloperSkillsNetwork-PY0221EN-SkillsNetwork/labs/module%206/Lab%20-%20Extract%20Transform%20Load/data/datasource.zip\n",
            "Resolving cf-courses-data.s3.us.cloud-object-storage.appdomain.cloud (cf-courses-data.s3.us.cloud-object-storage.appdomain.cloud)... 169.45.118.108\n",
            "Connecting to cf-courses-data.s3.us.cloud-object-storage.appdomain.cloud (cf-courses-data.s3.us.cloud-object-storage.appdomain.cloud)|169.45.118.108|:443... connected.\n",
            "HTTP request sent, awaiting response... 200 OK\n",
            "Length: 4249 (4.1K) [application/zip]\n",
            "Saving to: ‘datasource.zip’\n",
            "\n",
            "datasource.zip      100%[===================>]   4.15K  --.-KB/s    in 0s      \n",
            "\n",
            "2025-07-22 03:43:40 (1.05 GB/s) - ‘datasource.zip’ saved [4249/4249]\n",
            "\n",
            "Archive:  datasource.zip\n",
            "  inflating: used_car_prices1.csv    \n",
            "  inflating: used_car_prices2.csv    \n",
            "  inflating: used_car_prices3.csv    \n",
            "  inflating: used_car_prices1.json   \n",
            "  inflating: used_car_prices2.json   \n",
            "  inflating: used_car_prices3.json   \n",
            "  inflating: used_car_prices1.xml    \n",
            "  inflating: used_car_prices2.xml    \n",
            "  inflating: used_car_prices3.xml    \n"
          ]
        }
      ],
      "source": [
        "!wget https://cf-courses-data.s3.us.cloud-object-storage.appdomain.cloud/IBMDeveloperSkillsNetwork-PY0221EN-SkillsNetwork/labs/module%206/Lab%20-%20Extract%20Transform%20Load/data/datasource.zip\n",
        "!unzip datasource.zip\n"
      ]
    },
    {
      "cell_type": "code",
      "source": [
        "import glob\n",
        "import pandas as pd\n",
        "import xml.etree.ElementTree as ET\n",
        "from datetime import datetime\n",
        "log_file = \"log_file2.txt\"\n",
        "target_file = \"transformed_data2.csv\"\n",
        "\n",
        "def extract_from_csv(file_to_process):\n",
        "    dataframe = pd.read_csv(file_to_process)\n",
        "    return dataframe\n",
        "\n",
        "def extract_from_json(file_to_process):\n",
        "    dataframe = pd.read_json(file_to_process,lines = True)\n",
        "    return dataframe\n",
        "\n",
        "def extract_from_xml(file_to_process):\n",
        "    dataframe = pd.DataFrame(columns=[\"car_model\",\"year_of_manufacture\",\"price\",\"fuel\"])\n",
        "    tree = ET.parse(file_to_process)\n",
        "    root = tree.getroot()\n",
        "    for car in root:\n",
        "        car_model = car.find(\"car_model\").text\n",
        "        year_of_manufacture = car.find(\"year_of_manufacture\").text\n",
        "        price = float(car.find(\"price\").text)\n",
        "        fuel = car.find(\"fuel\").text\n",
        "\n",
        "        dataframe = pd.concat([dataframe,pd.DataFrame([{\"car_model\": car_model,\"year_of_manufacture\":year_of_manufacture,\"price\":price,\"fuel\":fuel}])],ignore_index =True)\n",
        "    return dataframe\n",
        "\n",
        "def extract():\n",
        "    extracted_data = pd.DataFrame(columns=[\"car_model\",\"year_of_manufacture\",\"price\",\"fuel\"])\n",
        "    for csvfile in glob.glob(\"*.csv\"):\n",
        "        if csvfile != target_file:\n",
        "            extracted_data = pd.concat([extracted_data,pd.DataFrame(extract_from_csv(csvfile))],ignore_index=True)\n",
        "\n",
        "    for jsonfile in glob.glob(\"*.json\"):\n",
        "        extracted_data = pd.concat([extracted_data, pd.DataFrame(extract_from_json(jsonfile))], ignore_index=True)\n",
        "\n",
        "    for xmlfile in glob.glob(\"*.xml\"):\n",
        "        extracted_data = pd.concat([extracted_data, pd.DataFrame(extract_from_xml(xmlfile))], ignore_index=True)\n",
        "\n",
        "    return extracted_data\n",
        "\n",
        "def transform(data):\n",
        "    data['price'] = data['price'].round(2)\n",
        "\n",
        "\n",
        "    return data\n",
        "\n",
        "def load_data(target_file,transformed_data):\n",
        "    transformed_data.to_csv(target_file)\n",
        "\n",
        "\n",
        "def log_progress(message):\n",
        "    timestamp_format = '%Y-%h-%d-%H:%M:%S' # Year-Monthname-Day-Hour-Minute-Second\n",
        "    now = datetime.now() # get current timestamp\n",
        "    timestamp = now.strftime(timestamp_format)\n",
        "    with open(log_file,\"a\") as f:\n",
        "        f.write(timestamp + ',' + message + '\\n')\n",
        "\n",
        "log_progress(\"ETL JOB STARTED\")\n",
        "log_progress(\"EXTRACT PHASE START\")\n",
        "extracted_data = extract()\n",
        "log_progress(\"EXTRACT PHASE END\")\n",
        "\n",
        "log_progress(\"TRANSFORM PHASE START\")\n",
        "transformed_data = transform(extracted_data)\n",
        "print(\"TRANSFORMED DATA\")\n",
        "print(transformed_data)\n",
        "\n",
        "log_progress(\"TRANSFORM PHASE ENDED\")\n",
        "\n",
        "log_progress(\"LOAD PHASE START\")\n",
        "load_data(target_file,transformed_data)\n",
        "log_progress(\"LOAD PHASE END\")\n",
        "\n",
        "log_progress(\"ETL JOB END\")"
      ],
      "metadata": {
        "colab": {
          "base_uri": "https://localhost:8080/"
        },
        "id": "OawyYVQGOoJn",
        "outputId": "9e0afac6-fd05-477d-9899-274be1a96967"
      },
      "execution_count": 2,
      "outputs": [
        {
          "output_type": "stream",
          "name": "stdout",
          "text": [
            "TRANSFORMED DATA\n",
            "        car_model year_of_manufacture     price    fuel\n",
            "0            ritz                2014   5000.00  Petrol\n",
            "1             sx4                2013   7089.55  Diesel\n",
            "2            ciaz                2017  10820.90  Petrol\n",
            "3         wagon r                2011   4253.73  Petrol\n",
            "4           swift                2014   6865.67  Diesel\n",
            "..            ...                 ...       ...     ...\n",
            "85        etios g                2015   5895.52  Petrol\n",
            "86  corolla altis                2013   8208.96  Petrol\n",
            "87        corolla                2004   2238.81  Petrol\n",
            "88  corolla altis                2010   7835.82  Petrol\n",
            "89       fortuner                2012  21641.79  Diesel\n",
            "\n",
            "[90 rows x 4 columns]\n"
          ]
        },
        {
          "output_type": "stream",
          "name": "stderr",
          "text": [
            "/tmp/ipython-input-2-2061207675.py:33: FutureWarning: The behavior of DataFrame concatenation with empty or all-NA entries is deprecated. In a future version, this will no longer exclude empty or all-NA columns when determining the result dtypes. To retain the old behavior, exclude the relevant entries before the concat operation.\n",
            "  extracted_data = pd.concat([extracted_data,pd.DataFrame(extract_from_csv(csvfile))],ignore_index=True)\n",
            "/tmp/ipython-input-2-2061207675.py:26: FutureWarning: The behavior of DataFrame concatenation with empty or all-NA entries is deprecated. In a future version, this will no longer exclude empty or all-NA columns when determining the result dtypes. To retain the old behavior, exclude the relevant entries before the concat operation.\n",
            "  dataframe = pd.concat([dataframe,pd.DataFrame([{\"car_model\": car_model,\"year_of_manufacture\":year_of_manufacture,\"price\":price,\"fuel\":fuel}])],ignore_index =True)\n",
            "/tmp/ipython-input-2-2061207675.py:26: FutureWarning: The behavior of DataFrame concatenation with empty or all-NA entries is deprecated. In a future version, this will no longer exclude empty or all-NA columns when determining the result dtypes. To retain the old behavior, exclude the relevant entries before the concat operation.\n",
            "  dataframe = pd.concat([dataframe,pd.DataFrame([{\"car_model\": car_model,\"year_of_manufacture\":year_of_manufacture,\"price\":price,\"fuel\":fuel}])],ignore_index =True)\n",
            "/tmp/ipython-input-2-2061207675.py:26: FutureWarning: The behavior of DataFrame concatenation with empty or all-NA entries is deprecated. In a future version, this will no longer exclude empty or all-NA columns when determining the result dtypes. To retain the old behavior, exclude the relevant entries before the concat operation.\n",
            "  dataframe = pd.concat([dataframe,pd.DataFrame([{\"car_model\": car_model,\"year_of_manufacture\":year_of_manufacture,\"price\":price,\"fuel\":fuel}])],ignore_index =True)\n"
          ]
        }
      ]
    }
  ]
}